{
 "cells": [
  {
   "cell_type": "code",
   "execution_count": 1,
   "id": "7cb38bb4",
   "metadata": {},
   "outputs": [],
   "source": [
    "import pandas as pd\n",
    "import seaborn as sns\n",
    "from matplotlib import pyplot as plt\n"
   ]
  },
  {
   "cell_type": "code",
   "execution_count": 68,
   "id": "075bb95c",
   "metadata": {},
   "outputs": [],
   "source": [
    "df = pd.read_csv(\"Desktop/project_dataset/social media influencers - youtube.csv\")"
   ]
  },
  {
   "cell_type": "code",
   "execution_count": 69,
   "id": "10fb3d9d",
   "metadata": {},
   "outputs": [
    {
     "data": {
      "text/html": [
       "<div>\n",
       "<style scoped>\n",
       "    .dataframe tbody tr th:only-of-type {\n",
       "        vertical-align: middle;\n",
       "    }\n",
       "\n",
       "    .dataframe tbody tr th {\n",
       "        vertical-align: top;\n",
       "    }\n",
       "\n",
       "    .dataframe thead th {\n",
       "        text-align: right;\n",
       "    }\n",
       "</style>\n",
       "<table border=\"1\" class=\"dataframe\">\n",
       "  <thead>\n",
       "    <tr style=\"text-align: right;\">\n",
       "      <th></th>\n",
       "      <th>youtuber name</th>\n",
       "      <th>channel name</th>\n",
       "      <th>Category</th>\n",
       "      <th>Subscribers</th>\n",
       "      <th>Audience Country</th>\n",
       "      <th>avg views</th>\n",
       "      <th>avg likes</th>\n",
       "      <th>avg comments</th>\n",
       "    </tr>\n",
       "  </thead>\n",
       "  <tbody>\n",
       "    <tr>\n",
       "      <th>0</th>\n",
       "      <td>tseries</td>\n",
       "      <td>T-Series</td>\n",
       "      <td>Music &amp; Dance</td>\n",
       "      <td>212.1M</td>\n",
       "      <td>India</td>\n",
       "      <td>323.7K</td>\n",
       "      <td>9.8K</td>\n",
       "      <td>290</td>\n",
       "    </tr>\n",
       "    <tr>\n",
       "      <th>1</th>\n",
       "      <td>checkgate</td>\n",
       "      <td>Cocomelon - Nursery Rhymes</td>\n",
       "      <td>Education</td>\n",
       "      <td>132.1M</td>\n",
       "      <td>NaN</td>\n",
       "      <td>13.8M</td>\n",
       "      <td>80.9K</td>\n",
       "      <td>NaN</td>\n",
       "    </tr>\n",
       "    <tr>\n",
       "      <th>2</th>\n",
       "      <td>setindia</td>\n",
       "      <td>SET India</td>\n",
       "      <td>NaN</td>\n",
       "      <td>130.4M</td>\n",
       "      <td>India</td>\n",
       "      <td>23.6K</td>\n",
       "      <td>314</td>\n",
       "      <td>21</td>\n",
       "    </tr>\n",
       "    <tr>\n",
       "      <th>3</th>\n",
       "      <td>PewDiePie</td>\n",
       "      <td>PewDiePie</td>\n",
       "      <td>Animation</td>\n",
       "      <td>111.4M</td>\n",
       "      <td>United States</td>\n",
       "      <td>1.4M</td>\n",
       "      <td>80.8K</td>\n",
       "      <td>4.6K</td>\n",
       "    </tr>\n",
       "    <tr>\n",
       "      <th>4</th>\n",
       "      <td>MrBeast6000</td>\n",
       "      <td>MrBeast</td>\n",
       "      <td>Video games</td>\n",
       "      <td>92.5M</td>\n",
       "      <td>United States</td>\n",
       "      <td>30.6M</td>\n",
       "      <td>1.7M</td>\n",
       "      <td>67.7K</td>\n",
       "    </tr>\n",
       "  </tbody>\n",
       "</table>\n",
       "</div>"
      ],
      "text/plain": [
       "  youtuber name                channel name       Category Subscribers  \\\n",
       "0       tseries                    T-Series  Music & Dance      212.1M   \n",
       "1     checkgate  Cocomelon - Nursery Rhymes      Education      132.1M   \n",
       "2      setindia                   SET India            NaN      130.4M   \n",
       "3     PewDiePie                   PewDiePie      Animation      111.4M   \n",
       "4   MrBeast6000                     MrBeast    Video games       92.5M   \n",
       "\n",
       "  Audience Country avg views avg likes avg comments  \n",
       "0            India    323.7K      9.8K          290  \n",
       "1              NaN     13.8M     80.9K          NaN  \n",
       "2            India     23.6K       314           21  \n",
       "3    United States      1.4M     80.8K         4.6K  \n",
       "4    United States     30.6M      1.7M        67.7K  "
      ]
     },
     "execution_count": 69,
     "metadata": {},
     "output_type": "execute_result"
    }
   ],
   "source": [
    "df.head()"
   ]
  },
  {
   "cell_type": "code",
   "execution_count": 70,
   "id": "caa4c607",
   "metadata": {},
   "outputs": [
    {
     "data": {
      "text/plain": [
       "(1000, 8)"
      ]
     },
     "execution_count": 70,
     "metadata": {},
     "output_type": "execute_result"
    }
   ],
   "source": [
    "df.shape"
   ]
  },
  {
   "cell_type": "code",
   "execution_count": 71,
   "id": "748c8225",
   "metadata": {},
   "outputs": [
    {
     "name": "stdout",
     "output_type": "stream",
     "text": [
      "<class 'pandas.core.frame.DataFrame'>\n",
      "RangeIndex: 1000 entries, 0 to 999\n",
      "Data columns (total 8 columns):\n",
      " #   Column            Non-Null Count  Dtype \n",
      "---  ------            --------------  ----- \n",
      " 0   youtuber name     1000 non-null   object\n",
      " 1   channel name      1000 non-null   object\n",
      " 2   Category          723 non-null    object\n",
      " 3   Subscribers       1000 non-null   object\n",
      " 4   Audience Country  839 non-null    object\n",
      " 5   avg views         1000 non-null   object\n",
      " 6   avg likes         962 non-null    object\n",
      " 7   avg comments      791 non-null    object\n",
      "dtypes: object(8)\n",
      "memory usage: 62.6+ KB\n"
     ]
    }
   ],
   "source": [
    "df.info()"
   ]
  },
  {
   "cell_type": "code",
   "execution_count": 72,
   "id": "1156f6e8",
   "metadata": {},
   "outputs": [
    {
     "data": {
      "text/html": [
       "<div>\n",
       "<style scoped>\n",
       "    .dataframe tbody tr th:only-of-type {\n",
       "        vertical-align: middle;\n",
       "    }\n",
       "\n",
       "    .dataframe tbody tr th {\n",
       "        vertical-align: top;\n",
       "    }\n",
       "\n",
       "    .dataframe thead th {\n",
       "        text-align: right;\n",
       "    }\n",
       "</style>\n",
       "<table border=\"1\" class=\"dataframe\">\n",
       "  <thead>\n",
       "    <tr style=\"text-align: right;\">\n",
       "      <th></th>\n",
       "      <th>youtuber name</th>\n",
       "      <th>channel name</th>\n",
       "      <th>Category</th>\n",
       "      <th>Subscribers</th>\n",
       "      <th>Audience Country</th>\n",
       "      <th>avg views</th>\n",
       "      <th>avg likes</th>\n",
       "      <th>avg comments</th>\n",
       "    </tr>\n",
       "  </thead>\n",
       "  <tbody>\n",
       "    <tr>\n",
       "      <th>count</th>\n",
       "      <td>1000</td>\n",
       "      <td>1000</td>\n",
       "      <td>723</td>\n",
       "      <td>1000</td>\n",
       "      <td>839</td>\n",
       "      <td>1000</td>\n",
       "      <td>962</td>\n",
       "      <td>791</td>\n",
       "    </tr>\n",
       "    <tr>\n",
       "      <th>unique</th>\n",
       "      <td>998</td>\n",
       "      <td>998</td>\n",
       "      <td>23</td>\n",
       "      <td>228</td>\n",
       "      <td>27</td>\n",
       "      <td>743</td>\n",
       "      <td>615</td>\n",
       "      <td>420</td>\n",
       "    </tr>\n",
       "    <tr>\n",
       "      <th>top</th>\n",
       "      <td>PrestonPlayz</td>\n",
       "      <td>Bollywood Classics</td>\n",
       "      <td>Music &amp; Dance</td>\n",
       "      <td>10.1M</td>\n",
       "      <td>United States</td>\n",
       "      <td>1.1M</td>\n",
       "      <td>1.2K</td>\n",
       "      <td>1.8K</td>\n",
       "    </tr>\n",
       "    <tr>\n",
       "      <th>freq</th>\n",
       "      <td>2</td>\n",
       "      <td>2</td>\n",
       "      <td>224</td>\n",
       "      <td>34</td>\n",
       "      <td>291</td>\n",
       "      <td>18</td>\n",
       "      <td>17</td>\n",
       "      <td>14</td>\n",
       "    </tr>\n",
       "  </tbody>\n",
       "</table>\n",
       "</div>"
      ],
      "text/plain": [
       "       youtuber name        channel name       Category Subscribers  \\\n",
       "count           1000                1000            723        1000   \n",
       "unique           998                 998             23         228   \n",
       "top     PrestonPlayz  Bollywood Classics  Music & Dance       10.1M   \n",
       "freq               2                   2            224          34   \n",
       "\n",
       "       Audience Country avg views avg likes avg comments  \n",
       "count               839      1000       962          791  \n",
       "unique               27       743       615          420  \n",
       "top       United States      1.1M      1.2K         1.8K  \n",
       "freq                291        18        17           14  "
      ]
     },
     "execution_count": 72,
     "metadata": {},
     "output_type": "execute_result"
    }
   ],
   "source": [
    "df.describe()"
   ]
  },
  {
   "cell_type": "code",
   "execution_count": 73,
   "id": "dc3df79e",
   "metadata": {},
   "outputs": [
    {
     "data": {
      "text/html": [
       "<div>\n",
       "<style scoped>\n",
       "    .dataframe tbody tr th:only-of-type {\n",
       "        vertical-align: middle;\n",
       "    }\n",
       "\n",
       "    .dataframe tbody tr th {\n",
       "        vertical-align: top;\n",
       "    }\n",
       "\n",
       "    .dataframe thead th {\n",
       "        text-align: right;\n",
       "    }\n",
       "</style>\n",
       "<table border=\"1\" class=\"dataframe\">\n",
       "  <thead>\n",
       "    <tr style=\"text-align: right;\">\n",
       "      <th></th>\n",
       "      <th>youtuber name</th>\n",
       "      <th>channel name</th>\n",
       "      <th>Category</th>\n",
       "      <th>Subscribers</th>\n",
       "      <th>Audience Country</th>\n",
       "      <th>avg views</th>\n",
       "      <th>avg likes</th>\n",
       "      <th>avg comments</th>\n",
       "    </tr>\n",
       "  </thead>\n",
       "  <tbody>\n",
       "    <tr>\n",
       "      <th>0</th>\n",
       "      <td>tseries</td>\n",
       "      <td>T-Series</td>\n",
       "      <td>Music &amp; Dance</td>\n",
       "      <td>212.1M</td>\n",
       "      <td>India</td>\n",
       "      <td>323.7K</td>\n",
       "      <td>9.8K</td>\n",
       "      <td>290</td>\n",
       "    </tr>\n",
       "    <tr>\n",
       "      <th>1</th>\n",
       "      <td>checkgate</td>\n",
       "      <td>Cocomelon - Nursery Rhymes</td>\n",
       "      <td>Education</td>\n",
       "      <td>132.1M</td>\n",
       "      <td>NaN</td>\n",
       "      <td>13.8M</td>\n",
       "      <td>80.9K</td>\n",
       "      <td>NaN</td>\n",
       "    </tr>\n",
       "    <tr>\n",
       "      <th>2</th>\n",
       "      <td>setindia</td>\n",
       "      <td>SET India</td>\n",
       "      <td>NaN</td>\n",
       "      <td>130.4M</td>\n",
       "      <td>India</td>\n",
       "      <td>23.6K</td>\n",
       "      <td>314</td>\n",
       "      <td>21</td>\n",
       "    </tr>\n",
       "    <tr>\n",
       "      <th>3</th>\n",
       "      <td>PewDiePie</td>\n",
       "      <td>PewDiePie</td>\n",
       "      <td>Animation</td>\n",
       "      <td>111.4M</td>\n",
       "      <td>United States</td>\n",
       "      <td>1.4M</td>\n",
       "      <td>80.8K</td>\n",
       "      <td>4.6K</td>\n",
       "    </tr>\n",
       "    <tr>\n",
       "      <th>4</th>\n",
       "      <td>MrBeast6000</td>\n",
       "      <td>MrBeast</td>\n",
       "      <td>Video games</td>\n",
       "      <td>92.5M</td>\n",
       "      <td>United States</td>\n",
       "      <td>30.6M</td>\n",
       "      <td>1.7M</td>\n",
       "      <td>67.7K</td>\n",
       "    </tr>\n",
       "  </tbody>\n",
       "</table>\n",
       "</div>"
      ],
      "text/plain": [
       "  youtuber name                channel name       Category Subscribers  \\\n",
       "0       tseries                    T-Series  Music & Dance      212.1M   \n",
       "1     checkgate  Cocomelon - Nursery Rhymes      Education      132.1M   \n",
       "2      setindia                   SET India            NaN      130.4M   \n",
       "3     PewDiePie                   PewDiePie      Animation      111.4M   \n",
       "4   MrBeast6000                     MrBeast    Video games       92.5M   \n",
       "\n",
       "  Audience Country avg views avg likes avg comments  \n",
       "0            India    323.7K      9.8K          290  \n",
       "1              NaN     13.8M     80.9K          NaN  \n",
       "2            India     23.6K       314           21  \n",
       "3    United States      1.4M     80.8K         4.6K  \n",
       "4    United States     30.6M      1.7M        67.7K  "
      ]
     },
     "execution_count": 73,
     "metadata": {},
     "output_type": "execute_result"
    }
   ],
   "source": [
    "df.head()"
   ]
  },
  {
   "cell_type": "code",
   "execution_count": 76,
   "id": "3e4e8662",
   "metadata": {},
   "outputs": [
    {
     "data": {
      "text/plain": [
       "youtuber name       0\n",
       "channel name        0\n",
       "Category            0\n",
       "Subscribers         0\n",
       "Audience Country    0\n",
       "avg views           0\n",
       "avg likes           0\n",
       "avg comments        0\n",
       "dtype: int64"
      ]
     },
     "execution_count": 76,
     "metadata": {},
     "output_type": "execute_result"
    }
   ],
   "source": [
    "#cheking null column\n",
    "df.isnull().sum()"
   ]
  },
  {
   "cell_type": "code",
   "execution_count": 75,
   "id": "d97038fe",
   "metadata": {},
   "outputs": [],
   "source": [
    "df.fillna(df.mode().iloc[0],inplace=True)"
   ]
  },
  {
   "cell_type": "code",
   "execution_count": 77,
   "id": "f418fe13",
   "metadata": {},
   "outputs": [],
   "source": [
    "#dealing with millions and thousands values of column"
   ]
  },
  {
   "cell_type": "code",
   "execution_count": 78,
   "id": "2fa97c26",
   "metadata": {},
   "outputs": [],
   "source": [
    "df['Subscribers'] = df['Subscribers'].str.replace('M', '').astype(float) * 1000000\n"
   ]
  },
  {
   "cell_type": "code",
   "execution_count": 86,
   "id": "1a128be7",
   "metadata": {},
   "outputs": [
    {
     "data": {
      "text/html": [
       "<div>\n",
       "<style scoped>\n",
       "    .dataframe tbody tr th:only-of-type {\n",
       "        vertical-align: middle;\n",
       "    }\n",
       "\n",
       "    .dataframe tbody tr th {\n",
       "        vertical-align: top;\n",
       "    }\n",
       "\n",
       "    .dataframe thead th {\n",
       "        text-align: right;\n",
       "    }\n",
       "</style>\n",
       "<table border=\"1\" class=\"dataframe\">\n",
       "  <thead>\n",
       "    <tr style=\"text-align: right;\">\n",
       "      <th></th>\n",
       "      <th>youtuber name</th>\n",
       "      <th>channel name</th>\n",
       "      <th>Category</th>\n",
       "      <th>Subscribers</th>\n",
       "      <th>Audience Country</th>\n",
       "      <th>avg views</th>\n",
       "      <th>avg likes</th>\n",
       "      <th>avg comments</th>\n",
       "    </tr>\n",
       "  </thead>\n",
       "  <tbody>\n",
       "    <tr>\n",
       "      <th>0</th>\n",
       "      <td>tseries</td>\n",
       "      <td>T-Series</td>\n",
       "      <td>Music &amp; Dance</td>\n",
       "      <td>212100000.0</td>\n",
       "      <td>India</td>\n",
       "      <td>323700.0</td>\n",
       "      <td>9800.0</td>\n",
       "      <td>290.0</td>\n",
       "    </tr>\n",
       "    <tr>\n",
       "      <th>1</th>\n",
       "      <td>checkgate</td>\n",
       "      <td>Cocomelon - Nursery Rhymes</td>\n",
       "      <td>Education</td>\n",
       "      <td>132100000.0</td>\n",
       "      <td>United States</td>\n",
       "      <td>13800000.0</td>\n",
       "      <td>80900.0</td>\n",
       "      <td>1800.0</td>\n",
       "    </tr>\n",
       "    <tr>\n",
       "      <th>2</th>\n",
       "      <td>setindia</td>\n",
       "      <td>SET India</td>\n",
       "      <td>Music &amp; Dance</td>\n",
       "      <td>130400000.0</td>\n",
       "      <td>India</td>\n",
       "      <td>23600.0</td>\n",
       "      <td>314.0</td>\n",
       "      <td>21.0</td>\n",
       "    </tr>\n",
       "    <tr>\n",
       "      <th>3</th>\n",
       "      <td>PewDiePie</td>\n",
       "      <td>PewDiePie</td>\n",
       "      <td>Animation</td>\n",
       "      <td>111400000.0</td>\n",
       "      <td>United States</td>\n",
       "      <td>1400000.0</td>\n",
       "      <td>80800.0</td>\n",
       "      <td>4600.0</td>\n",
       "    </tr>\n",
       "    <tr>\n",
       "      <th>4</th>\n",
       "      <td>MrBeast6000</td>\n",
       "      <td>MrBeast</td>\n",
       "      <td>Video games</td>\n",
       "      <td>92500000.0</td>\n",
       "      <td>United States</td>\n",
       "      <td>30600000.0</td>\n",
       "      <td>1700000.0</td>\n",
       "      <td>67700.0</td>\n",
       "    </tr>\n",
       "  </tbody>\n",
       "</table>\n",
       "</div>"
      ],
      "text/plain": [
       "  youtuber name                channel name       Category  Subscribers  \\\n",
       "0       tseries                    T-Series  Music & Dance  212100000.0   \n",
       "1     checkgate  Cocomelon - Nursery Rhymes      Education  132100000.0   \n",
       "2      setindia                   SET India  Music & Dance  130400000.0   \n",
       "3     PewDiePie                   PewDiePie      Animation  111400000.0   \n",
       "4   MrBeast6000                     MrBeast    Video games   92500000.0   \n",
       "\n",
       "  Audience Country   avg views  avg likes  avg comments  \n",
       "0            India    323700.0     9800.0         290.0  \n",
       "1    United States  13800000.0    80900.0        1800.0  \n",
       "2            India     23600.0      314.0          21.0  \n",
       "3    United States   1400000.0    80800.0        4600.0  \n",
       "4    United States  30600000.0  1700000.0       67700.0  "
      ]
     },
     "execution_count": 86,
     "metadata": {},
     "output_type": "execute_result"
    }
   ],
   "source": [
    "df.head()"
   ]
  },
  {
   "cell_type": "code",
   "execution_count": 84,
   "id": "06eec3ed",
   "metadata": {},
   "outputs": [],
   "source": [
    "def converter(value):\n",
    "    if \"M\" in value:\n",
    "        return float(value.replace(\"M\",\"\"))*1000000\n",
    "    elif \"K\" in value:\n",
    "        return float(value.replace(\"K\",\"\"))*1000\n",
    "    else:\n",
    "        return float(value)\n",
    "\n"
   ]
  },
  {
   "cell_type": "code",
   "execution_count": 83,
   "id": "8a0988e0",
   "metadata": {},
   "outputs": [],
   "source": [
    "df[\"avg views\"] = df[\"avg views\"].apply(converter)\n",
    "df[\"avg likes\"] = df[\"avg likes\"].apply(converter)\n",
    "df[\"avg comments\"] = df[\"avg comments\"].apply(converter)"
   ]
  },
  {
   "cell_type": "code",
   "execution_count": 85,
   "id": "5f236a66",
   "metadata": {},
   "outputs": [
    {
     "data": {
      "text/plain": [
       "youtuber name        object\n",
       "channel name         object\n",
       "Category             object\n",
       "Subscribers         float64\n",
       "Audience Country     object\n",
       "avg views           float64\n",
       "avg likes           float64\n",
       "avg comments        float64\n",
       "dtype: object"
      ]
     },
     "execution_count": 85,
     "metadata": {},
     "output_type": "execute_result"
    }
   ],
   "source": [
    "df.dtypes"
   ]
  },
  {
   "cell_type": "code",
   "execution_count": 87,
   "id": "3acd293e",
   "metadata": {},
   "outputs": [
    {
     "data": {
      "text/html": [
       "<div>\n",
       "<style scoped>\n",
       "    .dataframe tbody tr th:only-of-type {\n",
       "        vertical-align: middle;\n",
       "    }\n",
       "\n",
       "    .dataframe tbody tr th {\n",
       "        vertical-align: top;\n",
       "    }\n",
       "\n",
       "    .dataframe thead th {\n",
       "        text-align: right;\n",
       "    }\n",
       "</style>\n",
       "<table border=\"1\" class=\"dataframe\">\n",
       "  <thead>\n",
       "    <tr style=\"text-align: right;\">\n",
       "      <th></th>\n",
       "      <th>Subscribers</th>\n",
       "      <th>avg views</th>\n",
       "      <th>avg likes</th>\n",
       "      <th>avg comments</th>\n",
       "    </tr>\n",
       "  </thead>\n",
       "  <tbody>\n",
       "    <tr>\n",
       "      <th>count</th>\n",
       "      <td>1.000000e+03</td>\n",
       "      <td>1.000000e+03</td>\n",
       "      <td>1.000000e+03</td>\n",
       "      <td>1000.000000</td>\n",
       "    </tr>\n",
       "    <tr>\n",
       "      <th>mean</th>\n",
       "      <td>1.740430e+07</td>\n",
       "      <td>1.102656e+06</td>\n",
       "      <td>5.017522e+04</td>\n",
       "      <td>3025.178000</td>\n",
       "    </tr>\n",
       "    <tr>\n",
       "      <th>std</th>\n",
       "      <td>1.380312e+07</td>\n",
       "      <td>3.438304e+06</td>\n",
       "      <td>2.113731e+05</td>\n",
       "      <td>13599.930485</td>\n",
       "    </tr>\n",
       "    <tr>\n",
       "      <th>min</th>\n",
       "      <td>9.200000e+06</td>\n",
       "      <td>0.000000e+00</td>\n",
       "      <td>5.000000e+00</td>\n",
       "      <td>1.000000</td>\n",
       "    </tr>\n",
       "    <tr>\n",
       "      <th>25%</th>\n",
       "      <td>1.070000e+07</td>\n",
       "      <td>5.470000e+04</td>\n",
       "      <td>1.200000e+03</td>\n",
       "      <td>96.750000</td>\n",
       "    </tr>\n",
       "    <tr>\n",
       "      <th>50%</th>\n",
       "      <td>1.325000e+07</td>\n",
       "      <td>2.672500e+05</td>\n",
       "      <td>5.400000e+03</td>\n",
       "      <td>770.500000</td>\n",
       "    </tr>\n",
       "    <tr>\n",
       "      <th>75%</th>\n",
       "      <td>1.825000e+07</td>\n",
       "      <td>9.282000e+05</td>\n",
       "      <td>3.680000e+04</td>\n",
       "      <td>1800.000000</td>\n",
       "    </tr>\n",
       "    <tr>\n",
       "      <th>max</th>\n",
       "      <td>2.121000e+08</td>\n",
       "      <td>8.050000e+07</td>\n",
       "      <td>5.600000e+06</td>\n",
       "      <td>313600.000000</td>\n",
       "    </tr>\n",
       "  </tbody>\n",
       "</table>\n",
       "</div>"
      ],
      "text/plain": [
       "        Subscribers     avg views     avg likes   avg comments\n",
       "count  1.000000e+03  1.000000e+03  1.000000e+03    1000.000000\n",
       "mean   1.740430e+07  1.102656e+06  5.017522e+04    3025.178000\n",
       "std    1.380312e+07  3.438304e+06  2.113731e+05   13599.930485\n",
       "min    9.200000e+06  0.000000e+00  5.000000e+00       1.000000\n",
       "25%    1.070000e+07  5.470000e+04  1.200000e+03      96.750000\n",
       "50%    1.325000e+07  2.672500e+05  5.400000e+03     770.500000\n",
       "75%    1.825000e+07  9.282000e+05  3.680000e+04    1800.000000\n",
       "max    2.121000e+08  8.050000e+07  5.600000e+06  313600.000000"
      ]
     },
     "execution_count": 87,
     "metadata": {},
     "output_type": "execute_result"
    }
   ],
   "source": [
    "df.describe()"
   ]
  },
  {
   "cell_type": "code",
   "execution_count": 88,
   "id": "27b9e0c8",
   "metadata": {},
   "outputs": [],
   "source": [
    "# which channel has more subscribers"
   ]
  },
  {
   "cell_type": "code",
   "execution_count": 100,
   "id": "d4d702ca",
   "metadata": {},
   "outputs": [],
   "source": [
    "subscribers = df.sort_values(\"Subscribers\",ascending=False)\n",
    "subscribers = subscribers.head(10)"
   ]
  },
  {
   "cell_type": "code",
   "execution_count": 110,
   "id": "6e961c85",
   "metadata": {},
   "outputs": [
    {
     "data": {
      "text/plain": [
       "<matplotlib.legend.Legend at 0x1c7f4562730>"
      ]
     },
     "execution_count": 110,
     "metadata": {},
     "output_type": "execute_result"
    },
    {
     "data": {
      "image/png": "[encoded data removed]",
      "text/plain": [
       "<Figure size 864x864 with 1 Axes>"
      ]
     },
     "metadata": {
      "needs_background": "light"
     },
     "output_type": "display_data"
    }
   ],
   "source": [
    "plt.figure(figsize=(12,12))\n",
    "sns.barplot(x=\"youtuber name\",y=\"Subscribers\" ,data=subscribers,label=subscribers[\"youtuber name\"])\n",
    "plt.legend()"
   ]
  },
  {
   "cell_type": "code",
   "execution_count": 112,
   "id": "dc5f2b7a",
   "metadata": {},
   "outputs": [],
   "source": [
    "#conclusion : t-series is most subscribers"
   ]
  },
  {
   "cell_type": "code",
   "execution_count": 113,
   "id": "225e45f9",
   "metadata": {},
   "outputs": [],
   "source": [
    " #which Country Audience to be most use youtube"
   ]
  },
  {
   "cell_type": "code",
   "execution_count": 115,
   "id": "25f88804",
   "metadata": {},
   "outputs": [],
   "source": [
    "audians = df.groupby(\"Audience Country\").sum().sort_values(\"avg views\",ascending=False)"
   ]
  },
  {
   "cell_type": "code",
   "execution_count": 122,
   "id": "a4dc8ec2",
   "metadata": {},
   "outputs": [],
   "source": [
    "audians.reset_index(inplace=True)"
   ]
  },
  {
   "cell_type": "code",
   "execution_count": 124,
   "id": "c0864718",
   "metadata": {},
   "outputs": [],
   "source": [
    "audians =audians.head(10)"
   ]
  },
  {
   "cell_type": "code",
   "execution_count": 143,
   "id": "b6e92d1a",
   "metadata": {
    "scrolled": true
   },
   "outputs": [
    {
     "data": {
      "text/plain": [
       "<matplotlib.legend.Legend at 0x1c7fa655280>"
      ]
     },
     "execution_count": 143,
     "metadata": {},
     "output_type": "execute_result"
    },
    {
     "data": {
      "image/png": "[encoded data removed]",
      "text/plain": [
       "<Figure size 720x720 with 1 Axes>"
      ]
     },
     "metadata": {},
     "output_type": "display_data"
    }
   ],
   "source": [
    "plt.figure(figsize=(10,10))\n",
    "plt.pie(audians[\"avg views\"],labels=audians[\"Audience Country\"],autopct=\"%f.%%\");\n",
    "plt.legend()"
   ]
  },
  {
   "cell_type": "code",
   "execution_count": 144,
   "id": "8f208c75",
   "metadata": {},
   "outputs": [],
   "source": [
    "#conclusion USA have 51 % audieans \n"
   ]
  },
  {
   "cell_type": "code",
   "execution_count": 145,
   "id": "a51a22f9",
   "metadata": {},
   "outputs": [
    {
     "data": {
      "text/plain": [
       "<AxesSubplot:xlabel='Audience Country', ylabel='avg views'>"
      ]
     },
     "execution_count": 145,
     "metadata": {},
     "output_type": "execute_result"
    },
    {
     "data": {
      "image/png": "[encoded data removed]",
      "text/plain": [
       "<Figure size 864x864 with 1 Axes>"
      ]
     },
     "metadata": {
      "needs_background": "light"
     },
     "output_type": "display_data"
    }
   ],
   "source": [
    "plt.figure(figsize=(12,12))\n",
    "sns.barplot(x=\"Audience Country\",y=\"avg views\" ,data=audians)\n"
   ]
  },
  {
   "cell_type": "code",
   "execution_count": 146,
   "id": "933c7b13",
   "metadata": {},
   "outputs": [
    {
     "data": {
      "text/html": [
       "<div>\n",
       "<style scoped>\n",
       "    .dataframe tbody tr th:only-of-type {\n",
       "        vertical-align: middle;\n",
       "    }\n",
       "\n",
       "    .dataframe tbody tr th {\n",
       "        vertical-align: top;\n",
       "    }\n",
       "\n",
       "    .dataframe thead th {\n",
       "        text-align: right;\n",
       "    }\n",
       "</style>\n",
       "<table border=\"1\" class=\"dataframe\">\n",
       "  <thead>\n",
       "    <tr style=\"text-align: right;\">\n",
       "      <th></th>\n",
       "      <th>youtuber name</th>\n",
       "      <th>channel name</th>\n",
       "      <th>Category</th>\n",
       "      <th>Subscribers</th>\n",
       "      <th>Audience Country</th>\n",
       "      <th>avg views</th>\n",
       "      <th>avg likes</th>\n",
       "      <th>avg comments</th>\n",
       "    </tr>\n",
       "  </thead>\n",
       "  <tbody>\n",
       "    <tr>\n",
       "      <th>0</th>\n",
       "      <td>tseries</td>\n",
       "      <td>T-Series</td>\n",
       "      <td>Music &amp; Dance</td>\n",
       "      <td>212100000.0</td>\n",
       "      <td>India</td>\n",
       "      <td>323700.0</td>\n",
       "      <td>9800.0</td>\n",
       "      <td>290.0</td>\n",
       "    </tr>\n",
       "    <tr>\n",
       "      <th>1</th>\n",
       "      <td>checkgate</td>\n",
       "      <td>Cocomelon - Nursery Rhymes</td>\n",
       "      <td>Education</td>\n",
       "      <td>132100000.0</td>\n",
       "      <td>United States</td>\n",
       "      <td>13800000.0</td>\n",
       "      <td>80900.0</td>\n",
       "      <td>1800.0</td>\n",
       "    </tr>\n",
       "    <tr>\n",
       "      <th>2</th>\n",
       "      <td>setindia</td>\n",
       "      <td>SET India</td>\n",
       "      <td>Music &amp; Dance</td>\n",
       "      <td>130400000.0</td>\n",
       "      <td>India</td>\n",
       "      <td>23600.0</td>\n",
       "      <td>314.0</td>\n",
       "      <td>21.0</td>\n",
       "    </tr>\n",
       "    <tr>\n",
       "      <th>3</th>\n",
       "      <td>PewDiePie</td>\n",
       "      <td>PewDiePie</td>\n",
       "      <td>Animation</td>\n",
       "      <td>111400000.0</td>\n",
       "      <td>United States</td>\n",
       "      <td>1400000.0</td>\n",
       "      <td>80800.0</td>\n",
       "      <td>4600.0</td>\n",
       "    </tr>\n",
       "    <tr>\n",
       "      <th>4</th>\n",
       "      <td>MrBeast6000</td>\n",
       "      <td>MrBeast</td>\n",
       "      <td>Video games</td>\n",
       "      <td>92500000.0</td>\n",
       "      <td>United States</td>\n",
       "      <td>30600000.0</td>\n",
       "      <td>1700000.0</td>\n",
       "      <td>67700.0</td>\n",
       "    </tr>\n",
       "  </tbody>\n",
       "</table>\n",
       "</div>"
      ],
      "text/plain": [
       "  youtuber name                channel name       Category  Subscribers  \\\n",
       "0       tseries                    T-Series  Music & Dance  212100000.0   \n",
       "1     checkgate  Cocomelon - Nursery Rhymes      Education  132100000.0   \n",
       "2      setindia                   SET India  Music & Dance  130400000.0   \n",
       "3     PewDiePie                   PewDiePie      Animation  111400000.0   \n",
       "4   MrBeast6000                     MrBeast    Video games   92500000.0   \n",
       "\n",
       "  Audience Country   avg views  avg likes  avg comments  \n",
       "0            India    323700.0     9800.0         290.0  \n",
       "1    United States  13800000.0    80900.0        1800.0  \n",
       "2            India     23600.0      314.0          21.0  \n",
       "3    United States   1400000.0    80800.0        4600.0  \n",
       "4    United States  30600000.0  1700000.0       67700.0  "
      ]
     },
     "execution_count": 146,
     "metadata": {},
     "output_type": "execute_result"
    }
   ],
   "source": [
    "df.head()"
   ]
  },
  {
   "cell_type": "code",
   "execution_count": 147,
   "id": "61d93998",
   "metadata": {},
   "outputs": [],
   "source": [
    "#which catagory videos most views"
   ]
  },
  {
   "cell_type": "code",
   "execution_count": 149,
   "id": "89d9b97d",
   "metadata": {},
   "outputs": [
    {
     "data": {
      "text/html": [
       "<div>\n",
       "<style scoped>\n",
       "    .dataframe tbody tr th:only-of-type {\n",
       "        vertical-align: middle;\n",
       "    }\n",
       "\n",
       "    .dataframe tbody tr th {\n",
       "        vertical-align: top;\n",
       "    }\n",
       "\n",
       "    .dataframe thead th {\n",
       "        text-align: right;\n",
       "    }\n",
       "</style>\n",
       "<table border=\"1\" class=\"dataframe\">\n",
       "  <thead>\n",
       "    <tr style=\"text-align: right;\">\n",
       "      <th></th>\n",
       "      <th>Subscribers</th>\n",
       "      <th>avg views</th>\n",
       "      <th>avg likes</th>\n",
       "      <th>avg comments</th>\n",
       "    </tr>\n",
       "    <tr>\n",
       "      <th>Category</th>\n",
       "      <th></th>\n",
       "      <th></th>\n",
       "      <th></th>\n",
       "      <th></th>\n",
       "    </tr>\n",
       "  </thead>\n",
       "  <tbody>\n",
       "    <tr>\n",
       "      <th>Music &amp; Dance</th>\n",
       "      <td>9.066600e+09</td>\n",
       "      <td>461379073.0</td>\n",
       "      <td>21442622.0</td>\n",
       "      <td>1461864.0</td>\n",
       "    </tr>\n",
       "    <tr>\n",
       "      <th>Animation</th>\n",
       "      <td>1.965100e+09</td>\n",
       "      <td>152512800.0</td>\n",
       "      <td>5370580.0</td>\n",
       "      <td>295978.0</td>\n",
       "    </tr>\n",
       "    <tr>\n",
       "      <th>Video games</th>\n",
       "      <td>1.400900e+09</td>\n",
       "      <td>150744400.0</td>\n",
       "      <td>8205389.0</td>\n",
       "      <td>353183.0</td>\n",
       "    </tr>\n",
       "    <tr>\n",
       "      <th>Humor</th>\n",
       "      <td>4.198000e+08</td>\n",
       "      <td>48324900.0</td>\n",
       "      <td>2802328.0</td>\n",
       "      <td>144586.0</td>\n",
       "    </tr>\n",
       "    <tr>\n",
       "      <th>Education</th>\n",
       "      <td>6.920000e+08</td>\n",
       "      <td>46210800.0</td>\n",
       "      <td>1390170.0</td>\n",
       "      <td>106109.0</td>\n",
       "    </tr>\n",
       "    <tr>\n",
       "      <th>Movies</th>\n",
       "      <td>6.382000e+08</td>\n",
       "      <td>40439800.0</td>\n",
       "      <td>2512177.0</td>\n",
       "      <td>135349.0</td>\n",
       "    </tr>\n",
       "    <tr>\n",
       "      <th>Daily vlogs</th>\n",
       "      <td>5.449000e+08</td>\n",
       "      <td>38103100.0</td>\n",
       "      <td>2098586.0</td>\n",
       "      <td>116210.0</td>\n",
       "    </tr>\n",
       "    <tr>\n",
       "      <th>Toys</th>\n",
       "      <td>7.705000e+08</td>\n",
       "      <td>35984800.0</td>\n",
       "      <td>606671.0</td>\n",
       "      <td>57160.0</td>\n",
       "    </tr>\n",
       "    <tr>\n",
       "      <th>Sports</th>\n",
       "      <td>1.404000e+08</td>\n",
       "      <td>27754100.0</td>\n",
       "      <td>916654.0</td>\n",
       "      <td>8927.0</td>\n",
       "    </tr>\n",
       "    <tr>\n",
       "      <th>News &amp; Politics</th>\n",
       "      <td>7.248000e+08</td>\n",
       "      <td>27305300.0</td>\n",
       "      <td>1051554.0</td>\n",
       "      <td>125121.0</td>\n",
       "    </tr>\n",
       "    <tr>\n",
       "      <th>Science &amp; Technology</th>\n",
       "      <td>2.305000e+08</td>\n",
       "      <td>21782900.0</td>\n",
       "      <td>1114700.0</td>\n",
       "      <td>57124.0</td>\n",
       "    </tr>\n",
       "    <tr>\n",
       "      <th>DIY &amp; Life Hacks</th>\n",
       "      <td>1.991000e+08</td>\n",
       "      <td>14242700.0</td>\n",
       "      <td>934400.0</td>\n",
       "      <td>82017.0</td>\n",
       "    </tr>\n",
       "    <tr>\n",
       "      <th>Food &amp; Drinks</th>\n",
       "      <td>2.127000e+08</td>\n",
       "      <td>7880100.0</td>\n",
       "      <td>374500.0</td>\n",
       "      <td>14077.0</td>\n",
       "    </tr>\n",
       "    <tr>\n",
       "      <th>Design/art</th>\n",
       "      <td>6.310000e+07</td>\n",
       "      <td>7142600.0</td>\n",
       "      <td>377484.0</td>\n",
       "      <td>17000.0</td>\n",
       "    </tr>\n",
       "    <tr>\n",
       "      <th>Health &amp; Self Help</th>\n",
       "      <td>2.570000e+07</td>\n",
       "      <td>6390700.0</td>\n",
       "      <td>146100.0</td>\n",
       "      <td>6428.0</td>\n",
       "    </tr>\n",
       "    <tr>\n",
       "      <th>Animals &amp; Pets</th>\n",
       "      <td>4.560000e+07</td>\n",
       "      <td>5514500.0</td>\n",
       "      <td>313800.0</td>\n",
       "      <td>12504.0</td>\n",
       "    </tr>\n",
       "    <tr>\n",
       "      <th>Travel</th>\n",
       "      <td>9.900000e+06</td>\n",
       "      <td>3500000.0</td>\n",
       "      <td>233200.0</td>\n",
       "      <td>15900.0</td>\n",
       "    </tr>\n",
       "    <tr>\n",
       "      <th>Fashion</th>\n",
       "      <td>8.030000e+07</td>\n",
       "      <td>1993600.0</td>\n",
       "      <td>98800.0</td>\n",
       "      <td>4620.0</td>\n",
       "    </tr>\n",
       "    <tr>\n",
       "      <th>Beauty</th>\n",
       "      <td>4.030000e+07</td>\n",
       "      <td>1878500.0</td>\n",
       "      <td>91500.0</td>\n",
       "      <td>5400.0</td>\n",
       "    </tr>\n",
       "    <tr>\n",
       "      <th>Fitness</th>\n",
       "      <td>4.680000e+07</td>\n",
       "      <td>1723300.0</td>\n",
       "      <td>56000.0</td>\n",
       "      <td>2178.0</td>\n",
       "    </tr>\n",
       "    <tr>\n",
       "      <th>ASMR</th>\n",
       "      <td>4.840000e+07</td>\n",
       "      <td>1388700.0</td>\n",
       "      <td>18710.0</td>\n",
       "      <td>731.0</td>\n",
       "    </tr>\n",
       "    <tr>\n",
       "      <th>Mystery</th>\n",
       "      <td>1.270000e+07</td>\n",
       "      <td>322700.0</td>\n",
       "      <td>12400.0</td>\n",
       "      <td>735.0</td>\n",
       "    </tr>\n",
       "    <tr>\n",
       "      <th>Autos &amp; Vehicles</th>\n",
       "      <td>2.600000e+07</td>\n",
       "      <td>136700.0</td>\n",
       "      <td>6900.0</td>\n",
       "      <td>1977.0</td>\n",
       "    </tr>\n",
       "  </tbody>\n",
       "</table>\n",
       "</div>"
      ],
      "text/plain": [
       "                       Subscribers    avg views   avg likes  avg comments\n",
       "Category                                                                 \n",
       "Music & Dance         9.066600e+09  461379073.0  21442622.0     1461864.0\n",
       "Animation             1.965100e+09  152512800.0   5370580.0      295978.0\n",
       "Video games           1.400900e+09  150744400.0   8205389.0      353183.0\n",
       "Humor                 4.198000e+08   48324900.0   2802328.0      144586.0\n",
       "Education             6.920000e+08   46210800.0   1390170.0      106109.0\n",
       "Movies                6.382000e+08   40439800.0   2512177.0      135349.0\n",
       "Daily vlogs           5.449000e+08   38103100.0   2098586.0      116210.0\n",
       "Toys                  7.705000e+08   35984800.0    606671.0       57160.0\n",
       "Sports                1.404000e+08   27754100.0    916654.0        8927.0\n",
       "News & Politics       7.248000e+08   27305300.0   1051554.0      125121.0\n",
       "Science & Technology  2.305000e+08   21782900.0   1114700.0       57124.0\n",
       "DIY & Life Hacks      1.991000e+08   14242700.0    934400.0       82017.0\n",
       "Food & Drinks         2.127000e+08    7880100.0    374500.0       14077.0\n",
       "Design/art            6.310000e+07    7142600.0    377484.0       17000.0\n",
       "Health & Self Help    2.570000e+07    6390700.0    146100.0        6428.0\n",
       "Animals & Pets        4.560000e+07    5514500.0    313800.0       12504.0\n",
       "Travel                9.900000e+06    3500000.0    233200.0       15900.0\n",
       "Fashion               8.030000e+07    1993600.0     98800.0        4620.0\n",
       "Beauty                4.030000e+07    1878500.0     91500.0        5400.0\n",
       "Fitness               4.680000e+07    1723300.0     56000.0        2178.0\n",
       "ASMR                  4.840000e+07    1388700.0     18710.0         731.0\n",
       "Mystery               1.270000e+07     322700.0     12400.0         735.0\n",
       "Autos & Vehicles      2.600000e+07     136700.0      6900.0        1977.0"
      ]
     },
     "execution_count": 149,
     "metadata": {},
     "output_type": "execute_result"
    }
   ],
   "source": [
    "df.groupby(\"Category\").sum().sort_values(\"avg views\",ascending=False)"
   ]
  },
  {
   "cell_type": "code",
   "execution_count": 150,
   "id": "3b8aa001",
   "metadata": {},
   "outputs": [],
   "source": [
    "#Music & Dance is most views"
   ]
  },
  {
   "cell_type": "code",
   "execution_count": 151,
   "id": "78da2b2c",
   "metadata": {},
   "outputs": [
    {
     "data": {
      "text/html": [
       "<div>\n",
       "<style scoped>\n",
       "    .dataframe tbody tr th:only-of-type {\n",
       "        vertical-align: middle;\n",
       "    }\n",
       "\n",
       "    .dataframe tbody tr th {\n",
       "        vertical-align: top;\n",
       "    }\n",
       "\n",
       "    .dataframe thead th {\n",
       "        text-align: right;\n",
       "    }\n",
       "</style>\n",
       "<table border=\"1\" class=\"dataframe\">\n",
       "  <thead>\n",
       "    <tr style=\"text-align: right;\">\n",
       "      <th></th>\n",
       "      <th>Subscribers</th>\n",
       "      <th>avg views</th>\n",
       "      <th>avg likes</th>\n",
       "      <th>avg comments</th>\n",
       "    </tr>\n",
       "  </thead>\n",
       "  <tbody>\n",
       "    <tr>\n",
       "      <th>Subscribers</th>\n",
       "      <td>1.000000</td>\n",
       "      <td>0.131120</td>\n",
       "      <td>0.052108</td>\n",
       "      <td>0.027122</td>\n",
       "    </tr>\n",
       "    <tr>\n",
       "      <th>avg views</th>\n",
       "      <td>0.131120</td>\n",
       "      <td>1.000000</td>\n",
       "      <td>0.907473</td>\n",
       "      <td>0.776407</td>\n",
       "    </tr>\n",
       "    <tr>\n",
       "      <th>avg likes</th>\n",
       "      <td>0.052108</td>\n",
       "      <td>0.907473</td>\n",
       "      <td>1.000000</td>\n",
       "      <td>0.853813</td>\n",
       "    </tr>\n",
       "    <tr>\n",
       "      <th>avg comments</th>\n",
       "      <td>0.027122</td>\n",
       "      <td>0.776407</td>\n",
       "      <td>0.853813</td>\n",
       "      <td>1.000000</td>\n",
       "    </tr>\n",
       "  </tbody>\n",
       "</table>\n",
       "</div>"
      ],
      "text/plain": [
       "              Subscribers  avg views  avg likes  avg comments\n",
       "Subscribers      1.000000   0.131120   0.052108      0.027122\n",
       "avg views        0.131120   1.000000   0.907473      0.776407\n",
       "avg likes        0.052108   0.907473   1.000000      0.853813\n",
       "avg comments     0.027122   0.776407   0.853813      1.000000"
      ]
     },
     "execution_count": 151,
     "metadata": {},
     "output_type": "execute_result"
    }
   ],
   "source": [
    "df.corr()"
   ]
  },
  {
   "cell_type": "code",
   "execution_count": 153,
   "id": "bf880f5b",
   "metadata": {},
   "outputs": [
    {
     "data": {
      "text/plain": [
       "<AxesSubplot:>"
      ]
     },
     "execution_count": 153,
     "metadata": {},
     "output_type": "execute_result"
    },
    {
     "data": {
      "image/png": "[encoded data removed]",
      "text/plain": [
       "<Figure size 432x288 with 2 Axes>"
      ]
     },
     "metadata": {
      "needs_background": "light"
     },
     "output_type": "display_data"
    }
   ],
   "source": [
    "sns.heatmap(df.corr())"
   ]
  },
  {
   "cell_type": "code",
   "execution_count": 156,
   "id": "f9a0837d",
   "metadata": {},
   "outputs": [
    {
     "data": {
      "text/plain": [
       "<seaborn.axisgrid.PairGrid at 0x1c7fa48d340>"
      ]
     },
     "execution_count": 156,
     "metadata": {},
     "output_type": "execute_result"
    },
    {
     "data": {
      "image/png": "[encoded data removed]",
      "text/plain": [
       "<Figure size 864.625x720 with 20 Axes>"
      ]
     },
     "metadata": {
      "needs_background": "light"
     },
     "output_type": "display_data"
    }
   ],
   "source": [
    "sns.pairplot(df,hue=\"Category\")"
   ]
  },
  {
   "cell_type": "code",
   "execution_count": 157,
   "id": "69f66902",
   "metadata": {},
   "outputs": [
    {
     "data": {
      "text/html": [
       "<div>\n",
       "<style scoped>\n",
       "    .dataframe tbody tr th:only-of-type {\n",
       "        vertical-align: middle;\n",
       "    }\n",
       "\n",
       "    .dataframe tbody tr th {\n",
       "        vertical-align: top;\n",
       "    }\n",
       "\n",
       "    .dataframe thead th {\n",
       "        text-align: right;\n",
       "    }\n",
       "</style>\n",
       "<table border=\"1\" class=\"dataframe\">\n",
       "  <thead>\n",
       "    <tr style=\"text-align: right;\">\n",
       "      <th></th>\n",
       "      <th>youtuber name</th>\n",
       "      <th>channel name</th>\n",
       "      <th>Category</th>\n",
       "      <th>Subscribers</th>\n",
       "      <th>Audience Country</th>\n",
       "      <th>avg views</th>\n",
       "      <th>avg likes</th>\n",
       "      <th>avg comments</th>\n",
       "    </tr>\n",
       "  </thead>\n",
       "  <tbody>\n",
       "    <tr>\n",
       "      <th>0</th>\n",
       "      <td>tseries</td>\n",
       "      <td>T-Series</td>\n",
       "      <td>Music &amp; Dance</td>\n",
       "      <td>212100000.0</td>\n",
       "      <td>India</td>\n",
       "      <td>323700.0</td>\n",
       "      <td>9800.0</td>\n",
       "      <td>290.0</td>\n",
       "    </tr>\n",
       "    <tr>\n",
       "      <th>1</th>\n",
       "      <td>checkgate</td>\n",
       "      <td>Cocomelon - Nursery Rhymes</td>\n",
       "      <td>Education</td>\n",
       "      <td>132100000.0</td>\n",
       "      <td>United States</td>\n",
       "      <td>13800000.0</td>\n",
       "      <td>80900.0</td>\n",
       "      <td>1800.0</td>\n",
       "    </tr>\n",
       "    <tr>\n",
       "      <th>2</th>\n",
       "      <td>setindia</td>\n",
       "      <td>SET India</td>\n",
       "      <td>Music &amp; Dance</td>\n",
       "      <td>130400000.0</td>\n",
       "      <td>India</td>\n",
       "      <td>23600.0</td>\n",
       "      <td>314.0</td>\n",
       "      <td>21.0</td>\n",
       "    </tr>\n",
       "    <tr>\n",
       "      <th>3</th>\n",
       "      <td>PewDiePie</td>\n",
       "      <td>PewDiePie</td>\n",
       "      <td>Animation</td>\n",
       "      <td>111400000.0</td>\n",
       "      <td>United States</td>\n",
       "      <td>1400000.0</td>\n",
       "      <td>80800.0</td>\n",
       "      <td>4600.0</td>\n",
       "    </tr>\n",
       "    <tr>\n",
       "      <th>4</th>\n",
       "      <td>MrBeast6000</td>\n",
       "      <td>MrBeast</td>\n",
       "      <td>Video games</td>\n",
       "      <td>92500000.0</td>\n",
       "      <td>United States</td>\n",
       "      <td>30600000.0</td>\n",
       "      <td>1700000.0</td>\n",
       "      <td>67700.0</td>\n",
       "    </tr>\n",
       "  </tbody>\n",
       "</table>\n",
       "</div>"
      ],
      "text/plain": [
       "  youtuber name                channel name       Category  Subscribers  \\\n",
       "0       tseries                    T-Series  Music & Dance  212100000.0   \n",
       "1     checkgate  Cocomelon - Nursery Rhymes      Education  132100000.0   \n",
       "2      setindia                   SET India  Music & Dance  130400000.0   \n",
       "3     PewDiePie                   PewDiePie      Animation  111400000.0   \n",
       "4   MrBeast6000                     MrBeast    Video games   92500000.0   \n",
       "\n",
       "  Audience Country   avg views  avg likes  avg comments  \n",
       "0            India    323700.0     9800.0         290.0  \n",
       "1    United States  13800000.0    80900.0        1800.0  \n",
       "2            India     23600.0      314.0          21.0  \n",
       "3    United States   1400000.0    80800.0        4600.0  \n",
       "4    United States  30600000.0  1700000.0       67700.0  "
      ]
     },
     "execution_count": 157,
     "metadata": {},
     "output_type": "execute_result"
    }
   ],
   "source": [
    "df.head()"
   ]
  },
  {
   "cell_type": "code",
   "execution_count": 160,
   "id": "f8188635",
   "metadata": {},
   "outputs": [],
   "source": [
    "df[\"total\"] = df[\"avg views\"] + df[\"avg likes\"] + df[\"avg comments\"]"
   ]
  },
  {
   "cell_type": "code",
   "execution_count": 161,
   "id": "352bbb6e",
   "metadata": {},
   "outputs": [
    {
     "data": {
      "text/plain": [
       "0        333790.0\n",
       "1      13882700.0\n",
       "2         23935.0\n",
       "3       1485400.0\n",
       "4      32367700.0\n",
       "          ...    \n",
       "995     1512600.0\n",
       "996      275136.0\n",
       "997      307074.0\n",
       "998       16112.0\n",
       "999      122346.0\n",
       "Name: total, Length: 1000, dtype: float64"
      ]
     },
     "execution_count": 161,
     "metadata": {},
     "output_type": "execute_result"
    }
   ],
   "source": [
    "df.total"
   ]
  },
  {
   "cell_type": "code",
   "execution_count": 162,
   "id": "ad12f210",
   "metadata": {},
   "outputs": [
    {
     "data": {
      "text/html": [
       "<div>\n",
       "<style scoped>\n",
       "    .dataframe tbody tr th:only-of-type {\n",
       "        vertical-align: middle;\n",
       "    }\n",
       "\n",
       "    .dataframe tbody tr th {\n",
       "        vertical-align: top;\n",
       "    }\n",
       "\n",
       "    .dataframe thead th {\n",
       "        text-align: right;\n",
       "    }\n",
       "</style>\n",
       "<table border=\"1\" class=\"dataframe\">\n",
       "  <thead>\n",
       "    <tr style=\"text-align: right;\">\n",
       "      <th></th>\n",
       "      <th>youtuber name</th>\n",
       "      <th>channel name</th>\n",
       "      <th>Category</th>\n",
       "      <th>Subscribers</th>\n",
       "      <th>Audience Country</th>\n",
       "      <th>avg views</th>\n",
       "      <th>avg likes</th>\n",
       "      <th>avg comments</th>\n",
       "      <th>total</th>\n",
       "    </tr>\n",
       "  </thead>\n",
       "  <tbody>\n",
       "    <tr>\n",
       "      <th>0</th>\n",
       "      <td>tseries</td>\n",
       "      <td>T-Series</td>\n",
       "      <td>Music &amp; Dance</td>\n",
       "      <td>212100000.0</td>\n",
       "      <td>India</td>\n",
       "      <td>323700.0</td>\n",
       "      <td>9800.0</td>\n",
       "      <td>290.0</td>\n",
       "      <td>333790.0</td>\n",
       "    </tr>\n",
       "    <tr>\n",
       "      <th>1</th>\n",
       "      <td>checkgate</td>\n",
       "      <td>Cocomelon - Nursery Rhymes</td>\n",
       "      <td>Education</td>\n",
       "      <td>132100000.0</td>\n",
       "      <td>United States</td>\n",
       "      <td>13800000.0</td>\n",
       "      <td>80900.0</td>\n",
       "      <td>1800.0</td>\n",
       "      <td>13882700.0</td>\n",
       "    </tr>\n",
       "    <tr>\n",
       "      <th>2</th>\n",
       "      <td>setindia</td>\n",
       "      <td>SET India</td>\n",
       "      <td>Music &amp; Dance</td>\n",
       "      <td>130400000.0</td>\n",
       "      <td>India</td>\n",
       "      <td>23600.0</td>\n",
       "      <td>314.0</td>\n",
       "      <td>21.0</td>\n",
       "      <td>23935.0</td>\n",
       "    </tr>\n",
       "    <tr>\n",
       "      <th>3</th>\n",
       "      <td>PewDiePie</td>\n",
       "      <td>PewDiePie</td>\n",
       "      <td>Animation</td>\n",
       "      <td>111400000.0</td>\n",
       "      <td>United States</td>\n",
       "      <td>1400000.0</td>\n",
       "      <td>80800.0</td>\n",
       "      <td>4600.0</td>\n",
       "      <td>1485400.0</td>\n",
       "    </tr>\n",
       "    <tr>\n",
       "      <th>4</th>\n",
       "      <td>MrBeast6000</td>\n",
       "      <td>MrBeast</td>\n",
       "      <td>Video games</td>\n",
       "      <td>92500000.0</td>\n",
       "      <td>United States</td>\n",
       "      <td>30600000.0</td>\n",
       "      <td>1700000.0</td>\n",
       "      <td>67700.0</td>\n",
       "      <td>32367700.0</td>\n",
       "    </tr>\n",
       "  </tbody>\n",
       "</table>\n",
       "</div>"
      ],
      "text/plain": [
       "  youtuber name                channel name       Category  Subscribers  \\\n",
       "0       tseries                    T-Series  Music & Dance  212100000.0   \n",
       "1     checkgate  Cocomelon - Nursery Rhymes      Education  132100000.0   \n",
       "2      setindia                   SET India  Music & Dance  130400000.0   \n",
       "3     PewDiePie                   PewDiePie      Animation  111400000.0   \n",
       "4   MrBeast6000                     MrBeast    Video games   92500000.0   \n",
       "\n",
       "  Audience Country   avg views  avg likes  avg comments       total  \n",
       "0            India    323700.0     9800.0         290.0    333790.0  \n",
       "1    United States  13800000.0    80900.0        1800.0  13882700.0  \n",
       "2            India     23600.0      314.0          21.0     23935.0  \n",
       "3    United States   1400000.0    80800.0        4600.0   1485400.0  \n",
       "4    United States  30600000.0  1700000.0       67700.0  32367700.0  "
      ]
     },
     "execution_count": 162,
     "metadata": {},
     "output_type": "execute_result"
    }
   ],
   "source": [
    "df.head()"
   ]
  },
  {
   "cell_type": "code",
   "execution_count": 176,
   "id": "a27e7aac",
   "metadata": {},
   "outputs": [],
   "source": [
    "mostliked = df.sort_values(\"total\",ascending=False)[:10]"
   ]
  },
  {
   "cell_type": "code",
   "execution_count": 177,
   "id": "12abbbf1",
   "metadata": {},
   "outputs": [
    {
     "data": {
      "text/html": [
       "<div>\n",
       "<style scoped>\n",
       "    .dataframe tbody tr th:only-of-type {\n",
       "        vertical-align: middle;\n",
       "    }\n",
       "\n",
       "    .dataframe tbody tr th {\n",
       "        vertical-align: top;\n",
       "    }\n",
       "\n",
       "    .dataframe thead th {\n",
       "        text-align: right;\n",
       "    }\n",
       "</style>\n",
       "<table border=\"1\" class=\"dataframe\">\n",
       "  <thead>\n",
       "    <tr style=\"text-align: right;\">\n",
       "      <th></th>\n",
       "      <th>youtuber name</th>\n",
       "      <th>channel name</th>\n",
       "      <th>Category</th>\n",
       "      <th>Subscribers</th>\n",
       "      <th>Audience Country</th>\n",
       "      <th>avg views</th>\n",
       "      <th>avg likes</th>\n",
       "      <th>avg comments</th>\n",
       "      <th>total</th>\n",
       "    </tr>\n",
       "  </thead>\n",
       "  <tbody>\n",
       "    <tr>\n",
       "      <th>503</th>\n",
       "      <td>Bizarrap</td>\n",
       "      <td>Bizarrap</td>\n",
       "      <td>Music &amp; Dance</td>\n",
       "      <td>13100000.0</td>\n",
       "      <td>Argentina</td>\n",
       "      <td>80500000.0</td>\n",
       "      <td>5600000.0</td>\n",
       "      <td>313600.0</td>\n",
       "      <td>86413600.0</td>\n",
       "    </tr>\n",
       "    <tr>\n",
       "      <th>4</th>\n",
       "      <td>MrBeast6000</td>\n",
       "      <td>MrBeast</td>\n",
       "      <td>Video games</td>\n",
       "      <td>92500000.0</td>\n",
       "      <td>United States</td>\n",
       "      <td>30600000.0</td>\n",
       "      <td>1700000.0</td>\n",
       "      <td>67700.0</td>\n",
       "      <td>32367700.0</td>\n",
       "    </tr>\n",
       "    <tr>\n",
       "      <th>862</th>\n",
       "      <td>whoisjimmy</td>\n",
       "      <td>How Ridiculous</td>\n",
       "      <td>Sports</td>\n",
       "      <td>9900000.0</td>\n",
       "      <td>United States</td>\n",
       "      <td>25500000.0</td>\n",
       "      <td>750300.0</td>\n",
       "      <td>5200.0</td>\n",
       "      <td>26255500.0</td>\n",
       "    </tr>\n",
       "    <tr>\n",
       "      <th>118</th>\n",
       "      <td>MrBeast Gaming</td>\n",
       "      <td>MrBeast Gaming</td>\n",
       "      <td>Animation</td>\n",
       "      <td>26500000.0</td>\n",
       "      <td>United States</td>\n",
       "      <td>23300000.0</td>\n",
       "      <td>732000.0</td>\n",
       "      <td>44000.0</td>\n",
       "      <td>24076000.0</td>\n",
       "    </tr>\n",
       "    <tr>\n",
       "      <th>844</th>\n",
       "      <td>вДудь</td>\n",
       "      <td>вДудь</td>\n",
       "      <td>News &amp; Politics</td>\n",
       "      <td>10100000.0</td>\n",
       "      <td>Russia</td>\n",
       "      <td>16800000.0</td>\n",
       "      <td>615500.0</td>\n",
       "      <td>89400.0</td>\n",
       "      <td>17504900.0</td>\n",
       "    </tr>\n",
       "  </tbody>\n",
       "</table>\n",
       "</div>"
      ],
      "text/plain": [
       "      youtuber name    channel name         Category  Subscribers  \\\n",
       "503        Bizarrap        Bizarrap    Music & Dance   13100000.0   \n",
       "4       MrBeast6000         MrBeast      Video games   92500000.0   \n",
       "862      whoisjimmy  How Ridiculous           Sports    9900000.0   \n",
       "118  MrBeast Gaming  MrBeast Gaming        Animation   26500000.0   \n",
       "844           вДудь           вДудь  News & Politics   10100000.0   \n",
       "\n",
       "    Audience Country   avg views  avg likes  avg comments       total  \n",
       "503        Argentina  80500000.0  5600000.0      313600.0  86413600.0  \n",
       "4      United States  30600000.0  1700000.0       67700.0  32367700.0  \n",
       "862    United States  25500000.0   750300.0        5200.0  26255500.0  \n",
       "118    United States  23300000.0   732000.0       44000.0  24076000.0  \n",
       "844           Russia  16800000.0   615500.0       89400.0  17504900.0  "
      ]
     },
     "execution_count": 177,
     "metadata": {},
     "output_type": "execute_result"
    }
   ],
   "source": [
    "mostliked.head()"
   ]
  },
  {
   "cell_type": "code",
   "execution_count": 188,
   "id": "70341d52",
   "metadata": {},
   "outputs": [
    {
     "data": {
      "image/png": "[encoded data removed]",
      "text/plain": [
       "<Figure size 720x720 with 1 Axes>"
      ]
     },
     "metadata": {
      "needs_background": "light"
     },
     "output_type": "display_data"
    }
   ],
   "source": [
    "plt.figure(figsize=(10,10))\n",
    "plt.barh(mostliked[\"youtuber name\"], mostliked[\"total\"])\n",
    "plt.xlabel(\"Total Likes\")\n",
    "plt.ylabel(\"Youtuber Name\")\n",
    "plt.title(\"Most Liked Youtubers\")\n",
    "plt.show()"
   ]
  },
  {
   "cell_type": "code",
   "execution_count": null,
   "id": "1a2583a3",
   "metadata": {},
   "outputs": [],
   "source": []
  }
 ],
 "metadata": {
  "kernelspec": {
   "display_name": "Python 3 (ipykernel)",
   "language": "python",
   "name": "python3"
  },
  "language_info": {
   "codemirror_mode": {
    "name": "ipython",
    "version": 3
   },
   "file_extension": ".py",
   "mimetype": "text/x-python",
   "name": "python",
   "nbconvert_exporter": "python",
   "pygments_lexer": "ipython3",
   "version": "3.9.12"
  }
 },
 "nbformat": 4,
 "nbformat_minor": 5
}
